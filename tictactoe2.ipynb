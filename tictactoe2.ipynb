{
  "nbformat": 4,
  "nbformat_minor": 0,
  "metadata": {
    "colab": {
      "name": "tictactoe2.ipynb",
      "provenance": [],
      "collapsed_sections": []
    },
    "kernelspec": {
      "name": "python3",
      "display_name": "Python 3"
    },
    "language_info": {
      "name": "python"
    }
  },
  "cells": [
    {
      "cell_type": "code",
      "metadata": {
        "id": "a1THNrEHxra3"
      },
      "source": [
        "import random"
      ],
      "execution_count": 380,
      "outputs": []
    },
    {
      "cell_type": "code",
      "metadata": {
        "id": "vom9v5iXXCLs"
      },
      "source": [
        "board = [0,0,0,0,0,0,0,0,0] #initial board\n",
        "player_human=0\n",
        "player_comp=0\n",
        "\n",
        "\n",
        "#Favourable moves for win and draw - 8 possible moves\n",
        "favourable_moves ={0:[(1,2),(4,8),(3,6)],\n",
        "                   1:[(0,2),(4,7)],\n",
        "                   2:[(1,0),(4,6),(5,8)],\n",
        "                   3:[(4,5),(0,6)],\n",
        "                   4:[(6,2),(0,8),(1,7),(3,5)],\n",
        "                   5:[(8,2),(3,4)],\n",
        "                   6:[(4,2),(7,8),(3,0)],\n",
        "                   7:[(1,4),(6,8)],\n",
        "                   8:[(5,2),(4,0),(7,6)],}"
      ],
      "execution_count": 381,
      "outputs": []
    },
    {
      "cell_type": "code",
      "metadata": {
        "id": "bYJdAN6xKBDr"
      },
      "source": [
        "def comp_turnAI(player_comp):\n",
        "  if player_comp==5:\n",
        "    player_human=3\n",
        "  else:\n",
        "    player_human=5\n",
        "    player_comp=3\n",
        "\n",
        "  available_pos =  [i for i, x in enumerate(board) if x == 0]\n",
        "  if len(available_pos) > 6:\n",
        "    comp_turn(player_comp)\n",
        "    return None\n",
        "  else:\n",
        "    for pos in available_pos:\n",
        "      for x,y in favourable_moves[pos]:\n",
        "        #print('pos=',pos)\n",
        "        #print(f\"board[{x}] ={board[x]}, board[{y}]={board[y]} , player_comp= {player_comp} , player_human={player_human}\")\n",
        "        if (board[x]+board[y] == 2*player_comp):\n",
        "          board[pos]=player_comp\n",
        "          if is_win():\n",
        "            return \"won\"\n",
        "          else:\n",
        "            return None\n",
        "        \n",
        "        #defense\n",
        "        if (board[x]+board[y] == 2*player_human):\n",
        "          board[pos]=player_comp\n",
        "          if is_draw():\n",
        "            return \"draw\"\n",
        "          return None\n",
        "          \n",
        "    comp_turn(player_comp)\n",
        "\n",
        "\n"
      ],
      "execution_count": 382,
      "outputs": []
    },
    {
      "cell_type": "code",
      "metadata": {
        "id": "OTYJqABIXZWZ"
      },
      "source": [
        "def print_board():\n",
        "  ctr=0\n",
        "  i=0\n",
        "  while(True):\n",
        "    if ctr <=2:\n",
        "      if board[i]==0:\n",
        "        print(\".\",\" \",end=\" \")\n",
        "      elif board[i] ==3:\n",
        "        print(\"x\",\" \",end=\" \")\n",
        "      elif board[i] ==5:\n",
        "        print(\"o\",\" \",end=\" \")  \n",
        "      ctr+=1\n",
        "      i+=1\n",
        "    else:\n",
        "      ctr=0\n",
        "      print(\"\\n\")\n",
        "    if i>=9:\n",
        "      print(\"\\n\")\n",
        "      break\n",
        "\n",
        "\n",
        "    "
      ],
      "execution_count": 383,
      "outputs": []
    },
    {
      "cell_type": "code",
      "metadata": {
        "id": "NGvklyZ7i-HQ"
      },
      "source": [
        "def is_pos_available(pos):\n",
        "  if board[pos] == 0:\n",
        "    return True\n",
        "  else:\n",
        "    return False"
      ],
      "execution_count": 384,
      "outputs": []
    },
    {
      "cell_type": "code",
      "metadata": {
        "id": "hZrkJXe_j3w3"
      },
      "source": [
        "def select_0OrX():\n",
        "  while(True):\n",
        "    user_choice = input(\"Enter  your choice 'x' or 'o'?\")\n",
        "    print(\"You have selected:\",user_choice)\n",
        "    if user_choice ==\"x\":\n",
        "      player_human = 3          #x=3,o=5\n",
        "      player_comp = 5\n",
        "      return (player_human,player_comp)\n",
        "    elif user_choice ==\"o\":\n",
        "      player_human = 5\n",
        "      player_comp = 3\n",
        "      return (player_human,player_comp)\n",
        "    else:\n",
        "      print(\"Please select the correct choice!!\")\n"
      ],
      "execution_count": 385,
      "outputs": []
    },
    {
      "cell_type": "code",
      "metadata": {
        "id": "YaZVEvuqZrqf"
      },
      "source": [
        "def is_win():\n",
        "  if ((board[0]+board[1]+board[2] == 9) or (board[0]+board[1]+board[2] == 15)):\n",
        "    return True\n",
        "  if ((board[6]+board[7]+board[8] == 9) or (board[6]+board[7]+board[8] == 15)):\n",
        "    return True\n",
        "  if ((board[3]+board[4]+board[5] == 9) or (board[3]+board[4]+board[5] == 15)):\n",
        "    return True\n",
        "  if ((board[0]+board[3]+board[6] == 9) or (board[0]+board[3]+board[6] == 15)):\n",
        "    return True\n",
        "  if ((board[4]+board[1]+board[7] == 9) or (board[1]+board[4]+board[7] == 15)):\n",
        "    return True\n",
        "  if ((board[2]+board[5]+board[8] == 9) or (board[2]+board[5]+board[8] == 15)):\n",
        "    return True\n",
        "  if ((board[0]+board[4]+board[8] == 9) or (board[0]+board[4]+board[8] == 15)):\n",
        "    return True\n",
        "  if ((board[6]+board[4]+board[2] == 9) or (board[6]+board[4]+board[2] == 15)):\n",
        "    return True\n",
        "  return False\n",
        "    "
      ],
      "execution_count": 386,
      "outputs": []
    },
    {
      "cell_type": "code",
      "metadata": {
        "id": "FzrEhGYMnmTN"
      },
      "source": [
        "def is_draw():\n",
        "  if 0 in board:\n",
        "    return False\n",
        "  return True"
      ],
      "execution_count": 387,
      "outputs": []
    },
    {
      "cell_type": "code",
      "metadata": {
        "id": "MR7IvypYkVSX"
      },
      "source": [
        "def human_turn(player_human):  \n",
        "  while(True):\n",
        "    try:\n",
        "      pos = int(input(\"Enter the position 0-8: \"))\n",
        "      if not 0<=pos<9:\n",
        "        print(\"Please enter integer number in range of 0-8:\")\n",
        "        continue\n",
        "\n",
        "    except:\n",
        "      print(\"Incorrect format, please enter again between 0-8:\")\n",
        "      continue\n",
        "    if is_pos_available(pos):\n",
        "      board[pos] = player_human\n",
        "      if is_win():\n",
        "        return \"won\"\n",
        "      elif is_draw():\n",
        "        return \"draw\"\n",
        "      return None\n",
        "    else:\n",
        "      print(\"Select another position\")"
      ],
      "execution_count": 388,
      "outputs": []
    },
    {
      "cell_type": "code",
      "metadata": {
        "id": "aAnA6yDGe2aA"
      },
      "source": [
        "def comp_turn(player_comp):\n",
        "  while(True):\n",
        "    pos=random.randint(0, 8)\n",
        "    if is_pos_available(pos):\n",
        "      board[pos] = player_comp\n",
        "      if is_win():\n",
        "          return \"won\"\n",
        "      elif is_draw():\n",
        "          return \"draw\"\n",
        "      return None\n",
        "    else:\n",
        "      if 0 in board:\n",
        "        continue"
      ],
      "execution_count": 389,
      "outputs": []
    },
    {
      "cell_type": "code",
      "metadata": {
        "colab": {
          "base_uri": "https://localhost:8080/"
        },
        "id": "OciJEUkEecQ6",
        "outputId": "fdf2fe8c-da16-452f-9b94-60ae939cabbb"
      },
      "source": [
        "(player_human,player_comp) = select_0OrX()"
      ],
      "execution_count": 390,
      "outputs": [
        {
          "output_type": "stream",
          "name": "stdout",
          "text": [
            "Enter  your choice 'x' or 'o'?x\n",
            "You have selected: x\n"
          ]
        }
      ]
    },
    {
      "cell_type": "code",
      "metadata": {
        "colab": {
          "base_uri": "https://localhost:8080/"
        },
        "id": "Z3Ezdos2pRTc",
        "outputId": "6fe3ff5d-6920-4ce8-98bd-7b338f571170"
      },
      "source": [
        "print(\"Initial:\")\n",
        "print_board()\n",
        "\n",
        "for i in range(9):\n",
        "  print(\"*\"*10,\"Human turn:\",\"*\"*10)\n",
        "  human = human_turn(player_human)\n",
        "  if( human== \"won\"):\n",
        "    print(\"you won\")\n",
        "    break\n",
        "  elif (human == \"draw\"):\n",
        "    print(\"Match Draw\")\n",
        "    break\n",
        "  \n",
        "  print_board()\n",
        "  \n",
        "  print(\"*\"*10,\"computer turn :\",\"*\"*10)\n",
        "\n",
        "\n",
        "  #comp = comp_turn(player_comp)\n",
        "  comp = comp_turnAI(player_comp)\n",
        "  print_board()\n",
        "  if(comp == \"won\"):\n",
        "    print(\"Computer won\")\n",
        "    break\n",
        "  elif (comp == \"draw\"):\n",
        "    print(\"Match Draw\")\n",
        "    break\n",
        "\n",
        "\n",
        "print(\"Final State:\")\n",
        "print_board()\n"
      ],
      "execution_count": 391,
      "outputs": [
        {
          "output_type": "stream",
          "name": "stdout",
          "text": [
            "Initial:\n",
            ".   .   .   \n",
            "\n",
            ".   .   .   \n",
            "\n",
            ".   .   .   \n",
            "\n",
            "********** Human turn: **********\n",
            "Enter the position 0-8: 1\n",
            ".   x   .   \n",
            "\n",
            ".   .   .   \n",
            "\n",
            ".   .   .   \n",
            "\n",
            "********** computer turn : **********\n",
            ".   x   .   \n",
            "\n",
            ".   .   .   \n",
            "\n",
            "o   .   .   \n",
            "\n",
            "********** Human turn: **********\n",
            "Enter the position 0-8: 2\n",
            ".   x   x   \n",
            "\n",
            ".   .   .   \n",
            "\n",
            "o   .   .   \n",
            "\n",
            "********** computer turn : **********\n",
            "o   x   x   \n",
            "\n",
            ".   .   .   \n",
            "\n",
            "o   .   .   \n",
            "\n",
            "********** Human turn: **********\n",
            "Enter the position 0-8: 3\n",
            "o   x   x   \n",
            "\n",
            "x   .   .   \n",
            "\n",
            "o   .   .   \n",
            "\n",
            "********** computer turn : **********\n",
            "o   x   x   \n",
            "\n",
            "x   .   .   \n",
            "\n",
            "o   .   o   \n",
            "\n",
            "********** Human turn: **********\n",
            "Enter the position 0-8: 7\n",
            "o   x   x   \n",
            "\n",
            "x   .   .   \n",
            "\n",
            "o   x   o   \n",
            "\n",
            "********** computer turn : **********\n",
            "o   x   x   \n",
            "\n",
            "x   o   .   \n",
            "\n",
            "o   x   o   \n",
            "\n",
            "Computer won\n",
            "Final State:\n",
            "o   x   x   \n",
            "\n",
            "x   o   .   \n",
            "\n",
            "o   x   o   \n",
            "\n"
          ]
        }
      ]
    }
  ]
}